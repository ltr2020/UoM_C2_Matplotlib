{
 "cells": [
  {
   "cell_type": "code",
   "execution_count": 71,
   "metadata": {},
   "outputs": [
    {
     "data": {
      "text/plain": [
       "\" given\\nimport matplotlib.pyplot as plt\\nimport mplleaflet\\nimport pandas as pd\\n\\ndef leaflet_plot_stations(binsize, hashid):\\n\\n    df = pd.read_csv('data/C2A2_data/BinSize_d{}.csv'.format(binsize))\\n\\n    station_locations_by_hash = df[df['hash'] == hashid]\\n\\n    lons = station_locations_by_hash['LONGITUDE'].tolist()\\n    lats = station_locations_by_hash['LATITUDE'].tolist()\\n\\n    plt.figure(figsize=(8,8))\\n\\n    plt.scatter(lons, lats, c='r', alpha=0.7, s=200)\\n\\n    return mplleaflet.display()\\n\\nleaflet_plot_stations(400,'fb441e62df2d58994928907a91895ec62c2c42e6cd075c2700843b89')\\n\""
      ]
     },
     "execution_count": 71,
     "metadata": {},
     "output_type": "execute_result"
    }
   ],
   "source": [
    "\"\"\" given\n",
    "import matplotlib.pyplot as plt\n",
    "import mplleaflet\n",
    "import pandas as pd\n",
    "\n",
    "def leaflet_plot_stations(binsize, hashid):\n",
    "\n",
    "    df = pd.read_csv('data/C2A2_data/BinSize_d{}.csv'.format(binsize))\n",
    "\n",
    "    station_locations_by_hash = df[df['hash'] == hashid]\n",
    "\n",
    "    lons = station_locations_by_hash['LONGITUDE'].tolist()\n",
    "    lats = station_locations_by_hash['LATITUDE'].tolist()\n",
    "\n",
    "    plt.figure(figsize=(8,8))\n",
    "\n",
    "    plt.scatter(lons, lats, c='r', alpha=0.7, s=200)\n",
    "\n",
    "    return mplleaflet.display()\n",
    "\n",
    "leaflet_plot_stations(400,'fb441e62df2d58994928907a91895ec62c2c42e6cd075c2700843b89')\n",
    "\"\"\""
   ]
  },
  {
   "cell_type": "code",
   "execution_count": 72,
   "metadata": {},
   "outputs": [],
   "source": [
    "import numpy as np\n",
    "import pandas as pd\n",
    "import matplotlib.pyplot as plt\n",
    "%matplotlib inline"
   ]
  },
  {
   "cell_type": "code",
   "execution_count": 73,
   "metadata": {},
   "outputs": [
    {
     "data": {
      "text/html": [
       "<div>\n",
       "<style scoped>\n",
       "    .dataframe tbody tr th:only-of-type {\n",
       "        vertical-align: middle;\n",
       "    }\n",
       "\n",
       "    .dataframe tbody tr th {\n",
       "        vertical-align: top;\n",
       "    }\n",
       "\n",
       "    .dataframe thead th {\n",
       "        text-align: right;\n",
       "    }\n",
       "</style>\n",
       "<table border=\"1\" class=\"dataframe\">\n",
       "  <thead>\n",
       "    <tr style=\"text-align: right;\">\n",
       "      <th></th>\n",
       "      <th>ID</th>\n",
       "      <th>Date</th>\n",
       "      <th>Element</th>\n",
       "      <th>Data_Value</th>\n",
       "    </tr>\n",
       "  </thead>\n",
       "  <tbody>\n",
       "    <tr>\n",
       "      <th>0</th>\n",
       "      <td>USW00094889</td>\n",
       "      <td>2014-11-12</td>\n",
       "      <td>TMAX</td>\n",
       "      <td>22</td>\n",
       "    </tr>\n",
       "    <tr>\n",
       "      <th>1</th>\n",
       "      <td>USC00208972</td>\n",
       "      <td>2009-04-29</td>\n",
       "      <td>TMIN</td>\n",
       "      <td>56</td>\n",
       "    </tr>\n",
       "    <tr>\n",
       "      <th>2</th>\n",
       "      <td>USC00200032</td>\n",
       "      <td>2008-05-26</td>\n",
       "      <td>TMAX</td>\n",
       "      <td>278</td>\n",
       "    </tr>\n",
       "    <tr>\n",
       "      <th>3</th>\n",
       "      <td>USC00205563</td>\n",
       "      <td>2005-11-11</td>\n",
       "      <td>TMAX</td>\n",
       "      <td>139</td>\n",
       "    </tr>\n",
       "    <tr>\n",
       "      <th>4</th>\n",
       "      <td>USC00200230</td>\n",
       "      <td>2014-02-27</td>\n",
       "      <td>TMAX</td>\n",
       "      <td>-106</td>\n",
       "    </tr>\n",
       "  </tbody>\n",
       "</table>\n",
       "</div>"
      ],
      "text/plain": [
       "            ID        Date Element  Data_Value\n",
       "0  USW00094889  2014-11-12    TMAX          22\n",
       "1  USC00208972  2009-04-29    TMIN          56\n",
       "2  USC00200032  2008-05-26    TMAX         278\n",
       "3  USC00205563  2005-11-11    TMAX         139\n",
       "4  USC00200230  2014-02-27    TMAX        -106"
      ]
     },
     "execution_count": 73,
     "metadata": {},
     "output_type": "execute_result"
    }
   ],
   "source": [
    "df = pd.read_csv(r'fb441e62df2d58994928907a91895ec62c2c42e6cd075c2700843b89.csv')\n",
    "df.head()"
   ]
  },
  {
   "cell_type": "code",
   "execution_count": 74,
   "metadata": {},
   "outputs": [
    {
     "name": "stdout",
     "output_type": "stream",
     "text": [
      "<class 'pandas.core.frame.DataFrame'>\n",
      "RangeIndex: 165085 entries, 0 to 165084\n",
      "Data columns (total 4 columns):\n",
      " #   Column      Non-Null Count   Dtype \n",
      "---  ------      --------------   ----- \n",
      " 0   ID          165085 non-null  object\n",
      " 1   Date        165085 non-null  object\n",
      " 2   Element     165085 non-null  object\n",
      " 3   Data_Value  165085 non-null  int64 \n",
      "dtypes: int64(1), object(3)\n",
      "memory usage: 5.0+ MB\n"
     ]
    }
   ],
   "source": [
    "df.info()"
   ]
  },
  {
   "cell_type": "code",
   "execution_count": 75,
   "metadata": {},
   "outputs": [
    {
     "data": {
      "text/plain": [
       "ID            0\n",
       "Date          0\n",
       "Element       0\n",
       "Data_Value    0\n",
       "dtype: int64"
      ]
     },
     "execution_count": 75,
     "metadata": {},
     "output_type": "execute_result"
    }
   ],
   "source": [
    "df.isnull().sum() # check for missing values"
   ]
  },
  {
   "cell_type": "code",
   "execution_count": 76,
   "metadata": {},
   "outputs": [],
   "source": [
    "# parse Date into 'Year' & 'Date2'\n",
    "df['Year'] = df['Date'].apply(lambda x: x[:4])\n",
    "df['Date2'] = df['Date'].apply(lambda x: x[-5:])\n",
    "df.sort_values(by=['ID', 'Date'], inplace=True)"
   ]
  },
  {
   "cell_type": "code",
   "execution_count": 77,
   "metadata": {},
   "outputs": [],
   "source": [
    "# drop leap day (02-29)\n",
    "df = df[df['Date2'] != '02-29']\n"
   ]
  },
  {
   "cell_type": "code",
   "execution_count": 78,
   "metadata": {},
   "outputs": [
    {
     "name": "stdout",
     "output_type": "stream",
     "text": [
      "False\n"
     ]
    }
   ],
   "source": [
    "# check if leap day dropped?\n",
    "print('02-29' in df.Date2)"
   ]
  },
  {
   "cell_type": "code",
   "execution_count": 79,
   "metadata": {},
   "outputs": [],
   "source": [
    "# separate 2005-2014 bin from 2015\n",
    "df_15 = df[df['Year'] == '2015']\n",
    "df_0514 = df[df['Year'] != '2015']"
   ]
  },
  {
   "cell_type": "code",
   "execution_count": 80,
   "metadata": {},
   "outputs": [
    {
     "data": {
      "text/html": [
       "<div>\n",
       "<style scoped>\n",
       "    .dataframe tbody tr th:only-of-type {\n",
       "        vertical-align: middle;\n",
       "    }\n",
       "\n",
       "    .dataframe tbody tr th {\n",
       "        vertical-align: top;\n",
       "    }\n",
       "\n",
       "    .dataframe thead th {\n",
       "        text-align: right;\n",
       "    }\n",
       "</style>\n",
       "<table border=\"1\" class=\"dataframe\">\n",
       "  <thead>\n",
       "    <tr style=\"text-align: right;\">\n",
       "      <th></th>\n",
       "      <th>ID</th>\n",
       "      <th>Date</th>\n",
       "      <th>Element</th>\n",
       "      <th>Data_Value</th>\n",
       "      <th>Year</th>\n",
       "      <th>Date2</th>\n",
       "    </tr>\n",
       "  </thead>\n",
       "  <tbody>\n",
       "    <tr>\n",
       "      <th>84041</th>\n",
       "      <td>USW00094889</td>\n",
       "      <td>2015-12-29</td>\n",
       "      <td>TMAX</td>\n",
       "      <td>50</td>\n",
       "      <td>2015</td>\n",
       "      <td>12-29</td>\n",
       "    </tr>\n",
       "    <tr>\n",
       "      <th>50750</th>\n",
       "      <td>USW00094889</td>\n",
       "      <td>2015-12-30</td>\n",
       "      <td>TMAX</td>\n",
       "      <td>6</td>\n",
       "      <td>2015</td>\n",
       "      <td>12-30</td>\n",
       "    </tr>\n",
       "    <tr>\n",
       "      <th>50751</th>\n",
       "      <td>USW00094889</td>\n",
       "      <td>2015-12-30</td>\n",
       "      <td>TMIN</td>\n",
       "      <td>-5</td>\n",
       "      <td>2015</td>\n",
       "      <td>12-30</td>\n",
       "    </tr>\n",
       "    <tr>\n",
       "      <th>61120</th>\n",
       "      <td>USW00094889</td>\n",
       "      <td>2015-12-31</td>\n",
       "      <td>TMAX</td>\n",
       "      <td>-5</td>\n",
       "      <td>2015</td>\n",
       "      <td>12-31</td>\n",
       "    </tr>\n",
       "    <tr>\n",
       "      <th>61135</th>\n",
       "      <td>USW00094889</td>\n",
       "      <td>2015-12-31</td>\n",
       "      <td>TMIN</td>\n",
       "      <td>-21</td>\n",
       "      <td>2015</td>\n",
       "      <td>12-31</td>\n",
       "    </tr>\n",
       "  </tbody>\n",
       "</table>\n",
       "</div>"
      ],
      "text/plain": [
       "                ID        Date Element  Data_Value  Year  Date2\n",
       "84041  USW00094889  2015-12-29    TMAX          50  2015  12-29\n",
       "50750  USW00094889  2015-12-30    TMAX           6  2015  12-30\n",
       "50751  USW00094889  2015-12-30    TMIN          -5  2015  12-30\n",
       "61120  USW00094889  2015-12-31    TMAX          -5  2015  12-31\n",
       "61135  USW00094889  2015-12-31    TMIN         -21  2015  12-31"
      ]
     },
     "execution_count": 80,
     "metadata": {},
     "output_type": "execute_result"
    }
   ],
   "source": [
    "# TMIN & TMAX for dates over 2005-2014\n"
   ]
  },
  {
   "cell_type": "code",
   "execution_count": 81,
   "metadata": {},
   "outputs": [
    {
     "data": {
      "text/html": [
       "<div>\n",
       "<style scoped>\n",
       "    .dataframe tbody tr th:only-of-type {\n",
       "        vertical-align: middle;\n",
       "    }\n",
       "\n",
       "    .dataframe tbody tr th {\n",
       "        vertical-align: top;\n",
       "    }\n",
       "\n",
       "    .dataframe thead th {\n",
       "        text-align: right;\n",
       "    }\n",
       "</style>\n",
       "<table border=\"1\" class=\"dataframe\">\n",
       "  <thead>\n",
       "    <tr style=\"text-align: right;\">\n",
       "      <th></th>\n",
       "      <th>ID</th>\n",
       "      <th>Date</th>\n",
       "      <th>Element</th>\n",
       "      <th>Data_Value</th>\n",
       "      <th>Year</th>\n",
       "      <th>Date2</th>\n",
       "    </tr>\n",
       "  </thead>\n",
       "  <tbody>\n",
       "    <tr>\n",
       "      <th>56613</th>\n",
       "      <td>USW00094889</td>\n",
       "      <td>2014-12-29</td>\n",
       "      <td>TMAX</td>\n",
       "      <td>6</td>\n",
       "      <td>2014</td>\n",
       "      <td>12-29</td>\n",
       "    </tr>\n",
       "    <tr>\n",
       "      <th>60944</th>\n",
       "      <td>USW00094889</td>\n",
       "      <td>2014-12-30</td>\n",
       "      <td>TMIN</td>\n",
       "      <td>-105</td>\n",
       "      <td>2014</td>\n",
       "      <td>12-30</td>\n",
       "    </tr>\n",
       "    <tr>\n",
       "      <th>60945</th>\n",
       "      <td>USW00094889</td>\n",
       "      <td>2014-12-30</td>\n",
       "      <td>TMAX</td>\n",
       "      <td>-38</td>\n",
       "      <td>2014</td>\n",
       "      <td>12-30</td>\n",
       "    </tr>\n",
       "    <tr>\n",
       "      <th>45681</th>\n",
       "      <td>USW00094889</td>\n",
       "      <td>2014-12-31</td>\n",
       "      <td>TMIN</td>\n",
       "      <td>-138</td>\n",
       "      <td>2014</td>\n",
       "      <td>12-31</td>\n",
       "    </tr>\n",
       "    <tr>\n",
       "      <th>45683</th>\n",
       "      <td>USW00094889</td>\n",
       "      <td>2014-12-31</td>\n",
       "      <td>TMAX</td>\n",
       "      <td>-49</td>\n",
       "      <td>2014</td>\n",
       "      <td>12-31</td>\n",
       "    </tr>\n",
       "  </tbody>\n",
       "</table>\n",
       "</div>"
      ],
      "text/plain": [
       "                ID        Date Element  Data_Value  Year  Date2\n",
       "56613  USW00094889  2014-12-29    TMAX           6  2014  12-29\n",
       "60944  USW00094889  2014-12-30    TMIN        -105  2014  12-30\n",
       "60945  USW00094889  2014-12-30    TMAX         -38  2014  12-30\n",
       "45681  USW00094889  2014-12-31    TMIN        -138  2014  12-31\n",
       "45683  USW00094889  2014-12-31    TMAX         -49  2014  12-31"
      ]
     },
     "execution_count": 81,
     "metadata": {},
     "output_type": "execute_result"
    }
   ],
   "source": []
  },
  {
   "cell_type": "code",
   "execution_count": null,
   "metadata": {},
   "outputs": [],
   "source": []
  }
 ],
 "metadata": {
  "kernelspec": {
   "display_name": "Python 3.10.5 64-bit",
   "language": "python",
   "name": "python3"
  },
  "language_info": {
   "codemirror_mode": {
    "name": "ipython",
    "version": 3
   },
   "file_extension": ".py",
   "mimetype": "text/x-python",
   "name": "python",
   "nbconvert_exporter": "python",
   "pygments_lexer": "ipython3",
   "version": "3.10.5"
  },
  "orig_nbformat": 4,
  "vscode": {
   "interpreter": {
    "hash": "3b49d8890a4b6a7580b3a5b55c70f40383dbb867fb3e214090721dbb94c77867"
   }
  }
 },
 "nbformat": 4,
 "nbformat_minor": 2
}
